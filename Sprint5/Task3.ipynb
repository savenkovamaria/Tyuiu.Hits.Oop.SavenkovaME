{
 "cells": [
  {
   "cell_type": "markdown",
   "metadata": {},
   "source": [
    "<h1 style=\"color:DodgerBlue\">Индивидальный проект</h1>"
   ]
  },
  {
   "cell_type": "markdown",
   "metadata": {},
   "source": [
    "<h2 style=\"color:DodgerBlue\">Название проекта:</h2>\n",
    "\n",
    "----\n",
    "\n",
    "### Вариант задания \n"
   ]
  },
  {
   "cell_type": "markdown",
   "metadata": {},
   "source": [
    "<h2 style=\"color:DodgerBlue\">Описание проекта:</h2>\n",
    "\n",
    "----\n",
    "\n",
    "[ваш текст]\n",
    "\n",
    "#### Дополнительное задание\n",
    "Добавьте к сущестующим классам (базовыму и производным 3-4 атрибута и метода) исользуйтие в проекте коллекции, делегаты, события.\n"
   ]
  },
  {
   "cell_type": "markdown",
   "metadata": {},
   "source": [
    "<h2 style=\"color:DodgerBlue\">Реализация:</h2>\n",
    "\n",
    "----"
   ]
  },
  {
   "cell_type": "code",
   "execution_count": null,
   "metadata": {
    "dotnet_interactive": {
     "language": "csharp"
    },
    "polyglot_notebook": {
     "kernelName": "csharp"
    }
   },
   "outputs": [
    {
     "name": "stdout",
     "output_type": "stream",
     "text": [
      "Обработка платежей...\n",
      "\n",
      "Обработка онлайн-платежа: 300 через https://payment.example.com.\n",
      "Событие: Онлайн-платеж обработан: 300, URL: https://payment.example.com\n",
      "Обработка онлайн-платежа: 700 через https://payment.example.com.\n",
      "Событие: Онлайн-платеж обработан: 700, URL: https://payment.example.com\n",
      "Обработка банковского перевода: 500 через Сбербанк.\n",
      "Событие: Банковский перевод обработан: 500, банк: Сбербанк\n",
      "Обработка оплаты наличными: 200. Остаток: 800\n",
      "Событие: Оплата наличными обработана: 200, остаток: 800\n",
      "\n",
      "История транзакций для онлайн-оплаты:\n",
      "Онлайн-платеж обработан: 300, URL: https://payment.example.com\n",
      "Онлайн-платеж обработан: 700, URL: https://payment.example.com\n"
     ]
    }
   ],
   "source": [
    "using System;\n",
    "using System.Collections.Generic;\n",
    "\n",
    "public abstract class PaymentMethod\n",
    "{\n",
    "    public string MethodName { get; set; }\n",
    "    public decimal MinAmount { get; set; }\n",
    "    public List<string> TransactionHistory { get; private set; }\n",
    "\n",
    "    public PaymentMethod(string methodName, decimal minAmount)\n",
    "    {\n",
    "        MethodName = methodName;\n",
    "        MinAmount = minAmount;\n",
    "        TransactionHistory = new List<string>();\n",
    "    }\n",
    "\n",
    "    public abstract void ProcessPayment(decimal amount);\n",
    "\n",
    "    public virtual bool CheckMinimumAmount(decimal amount)\n",
    "    {\n",
    "        return amount >= MinAmount;\n",
    "    }\n",
    "\n",
    "    public void LogTransaction(string message)\n",
    "    {\n",
    "        TransactionHistory.Add(message);\n",
    "    }\n",
    "\n",
    "    public IEnumerable<string> GetTransactionHistory()\n",
    "    {\n",
    "        return TransactionHistory;\n",
    "    }\n",
    "\n",
    "    public delegate void PaymentHandler(string message);\n",
    "    public event PaymentHandler PaymentProcessed;\n",
    "\n",
    "    protected void OnPaymentProcessed(string message)\n",
    "    {\n",
    "        PaymentProcessed?.Invoke(message);\n",
    "        LogTransaction(message);\n",
    "    }\n",
    "}\n",
    "\n",
    "public class OnlinePayment : PaymentMethod\n",
    "{\n",
    "    public string PaymentUrl { get; set; }\n",
    "\n",
    "    public OnlinePayment(string methodName, decimal minAmount, string paymentUrl)\n",
    "        : base(methodName, minAmount)\n",
    "    {\n",
    "        PaymentUrl = paymentUrl;\n",
    "    }\n",
    "\n",
    "    public override void ProcessPayment(decimal amount)\n",
    "    {\n",
    "        Console.WriteLine($\"Обработка онлайн-платежа: {amount} через {PaymentUrl}.\");\n",
    "        OnPaymentProcessed($\"Онлайн-платеж обработан: {amount}, URL: {PaymentUrl}\");\n",
    "    }\n",
    "}\n",
    "\n",
    "public class BankTransfer : PaymentMethod\n",
    "{\n",
    "    public string BankData { get; set; }\n",
    "\n",
    "    public BankTransfer(string methodName, decimal minAmount, string bankData)\n",
    "        : base(methodName, minAmount)\n",
    "    {\n",
    "        BankData = bankData;\n",
    "    }\n",
    "\n",
    "    public override void ProcessPayment(decimal amount)\n",
    "    {\n",
    "        Console.WriteLine($\"Обработка банковского перевода: {amount} через {BankData}.\");\n",
    "        OnPaymentProcessed($\"Банковский перевод обработан: {amount}, банк: {BankData}\");\n",
    "    }\n",
    "}\n",
    "\n",
    "public class CashPayment : PaymentMethod\n",
    "{\n",
    "    public decimal CashBalance { get; private set; }\n",
    "\n",
    "    public CashPayment(string methodName, decimal minAmount, decimal initialBalance)\n",
    "        : base(methodName, minAmount)\n",
    "    {\n",
    "        CashBalance = initialBalance;\n",
    "    }\n",
    "\n",
    "    public override void ProcessPayment(decimal amount)\n",
    "    {\n",
    "        if (amount > CashBalance)\n",
    "        {\n",
    "            Console.WriteLine($\"Ошибка: недостаточно наличных для оплаты {amount}. Баланс: {CashBalance}\");\n",
    "            return;\n",
    "        }\n",
    "\n",
    "        CashBalance -= amount;\n",
    "        Console.WriteLine($\"Обработка оплаты наличными: {amount}. Остаток: {CashBalance}\");\n",
    "        OnPaymentProcessed($\"Оплата наличными обработана: {amount}, остаток: {CashBalance}\");\n",
    "    }\n",
    "}\n",
    "\n",
    "\n",
    "OnlinePayment onlinePayment = new OnlinePayment(\"Онлайн\", 100, \"https://payment.example.com\");\n",
    "BankTransfer bankTransfer = new BankTransfer(\"Банковский перевод\", 200, \"Сбербанк\");\n",
    "CashPayment cashPayment = new CashPayment(\"Наличные\", 50, 1000);\n",
    "\n",
    "onlinePayment.PaymentProcessed += message => Console.WriteLine($\"Событие: {message}\");\n",
    "bankTransfer.PaymentProcessed += message => Console.WriteLine($\"Событие: {message}\");\n",
    "cashPayment.PaymentProcessed += message => Console.WriteLine($\"Событие: {message}\");\n",
    "\n",
    "Console.WriteLine(\"Обработка платежей...\\n\");\n",
    "\n",
    "onlinePayment.ProcessPayment(300);\n",
    "onlinePayment.ProcessPayment(700);\n",
    "bankTransfer.ProcessPayment(500);\n",
    "cashPayment.ProcessPayment(200);\n",
    "\n",
    "Console.WriteLine(\"\\nИстория транзакций для онлайн-оплаты:\");\n",
    "foreach (var log in onlinePayment.GetTransactionHistory())\n",
    "{\n",
    "    Console.WriteLine(log);\n",
    "}\n",
    "\n"
   ]
  }
 ],
 "metadata": {
  "kernelspec": {
   "display_name": ".NET (C#)",
   "language": "C#",
   "name": ".net-csharp"
  },
  "polyglot_notebook": {
   "kernelInfo": {
    "defaultKernelName": "csharp",
    "items": [
     {
      "aliases": [],
      "languageName": "csharp",
      "name": "csharp"
     }
    ]
   }
  }
 },
 "nbformat": 4,
 "nbformat_minor": 2
}
