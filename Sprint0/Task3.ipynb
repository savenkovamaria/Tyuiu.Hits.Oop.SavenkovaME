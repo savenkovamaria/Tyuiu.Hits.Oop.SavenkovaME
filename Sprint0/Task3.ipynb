{
 "cells": [
  {
   "cell_type": "markdown",
   "metadata": {},
   "source": [
    "<h1 style=\"color:DodgerBlue\">Индивидальный проект</h1>"
   ]
  },
  {
   "cell_type": "markdown",
   "metadata": {},
   "source": [
    "<h2 style=\"color:DodgerBlue\">Название проекта:</h2>\n",
    "\n",
    "----\n",
    "\n",
    "### Вариант задания № 16\n"
   ]
  },
  {
   "cell_type": "markdown",
   "metadata": {},
   "source": [
    "<h2 style=\"color:DodgerBlue\">Описание проекта:</h2>\n",
    "\n",
    "----\n",
    "\n",
    "Создать базовый класс PaymentMethod в C#, который будет представлять \n",
    "различные способы оплаты. На основе этого класса разработать 2-3 производных \n",
    "класса, демонстрирующих принципы наследования и полиморфизма. В каждом из \n",
    "классов должны быть реализованы новые атрибуты и методы, а также \n",
    "переопределены некоторые методы базового класса для демонстрации \n",
    "полиморфизма.\n",
    "##### Требования к базовому классу PaymentMethod:\n",
    "• Атрибуты: ID способа оплаты (PaymentMethodId), Название способа оплаты \n",
    "(MethodName), Минимальная сумма (MinAmount).\n",
    "\n",
    " • Методы:\n",
    "\n",
    "o ProcessPayment(decimal amount): метод для обработки платежа \n",
    "указанной суммы.\n",
    "\n",
    "o CheckMinimumAmount(decimal amount): метод для проверки \n",
    "минимальной суммы платежа.\n",
    "\n",
    "o GetPaymentDetails(): метод для получения деталей способа оплаты.\n",
    "##### Требования к производным классам:\n",
    "1. ОнлайнОплата (OnlinePayment): Должен содержать дополнительные \n",
    "атрибуты, такие как URL платежной системы (PaymentUrl). \n",
    "Метод ProcessPayment() должен быть переопределен для включения URL \n",
    "платежной системы в процесс оплаты.\n",
    "2. БанковскийПеревод (BankTransfer): Должен содержать дополнительные \n",
    "атрибуты, такие как Банковские данные (BankData). \n",
    "Метод CheckMinimumAmount() должен быть переопределен для проверки \n",
    "минимальной суммы платежа с учетом банковских комиссий.\n",
    "3. Наличные (CashPayment) (если требуется третий класс): Должен содержать \n",
    "дополнительные атрибуты, такие как Место выдачи наличных \n",
    "(CashPickupPoint). Метод GetPaymentDetails() должен быть переопределен \n",
    "для отображения места выдачи наличных.\n"
   ]
  },
  {
   "cell_type": "markdown",
   "metadata": {},
   "source": [
    "<h2 style=\"color:DodgerBlue\">Реализация:</h2>\n",
    "\n",
    "----"
   ]
  },
  {
   "cell_type": "code",
   "execution_count": 2,
   "metadata": {
    "dotnet_interactive": {
     "language": "csharp"
    },
    "polyglot_notebook": {
     "kernelName": "csharp"
    }
   },
   "outputs": [
    {
     "name": "stdout",
     "output_type": "stream",
     "text": [
      "Онлайн-платеж 150 через https://payment.example.com\n",
      "Обработка платежа 250 через Банковский перевод\n",
      "Обработка платежа 75 через Наличные\n",
      "True\n",
      "True\n",
      "False\n",
      "Способ оплаты: Онлайн Оплата, Минимальная сумма: 100, URL платежной системы: https://payment.example.com\n",
      "Способ оплаты: Банковский перевод, Минимальная сумма: 200\n",
      "Способ оплаты: Наличные, Минимальная сумма: 50, Место выдачи наличных: Магазин\n"
     ]
    }
   ],
   "source": [
    "public interface IPaymentMethod\n",
    "{\n",
    "    void ProcessPayment(decimal amount);\n",
    "    bool CheckMinimumAmount(decimal amount);\n",
    "    string GetPaymentDetails();\n",
    "}\n",
    "public class PaymentMethod : IPaymentMethod\n",
    "{\n",
    "    public int PaymentMethodId { get; set; }\n",
    "    public string MethodName { get; set; }\n",
    "    public decimal MinAmount { get; set; }\n",
    "\n",
    "    public virtual void ProcessPayment(decimal amount)\n",
    "    {\n",
    "        Console.WriteLine($\"Обработка платежа {amount} через {MethodName}\");\n",
    "    }\n",
    "\n",
    "    public virtual bool CheckMinimumAmount(decimal amount)\n",
    "    {\n",
    "        return amount >= MinAmount;\n",
    "    }\n",
    "    public virtual string GetPaymentDetails()\n",
    "    {\n",
    "        return $\"Способ оплаты: {MethodName}, Минимальная сумма: {MinAmount}\";\n",
    "    }\n",
    "}\n",
    "\n",
    "public class OnlinePayment : PaymentMethod\n",
    "{\n",
    "    public string PaymentUrl { get; set; }\n",
    "\n",
    "    public override void ProcessPayment(decimal amount)\n",
    "    {\n",
    "        Console.WriteLine($\"Онлайн-платеж {amount} через {PaymentUrl}\");\n",
    "    }\n",
    "\n",
    "    public override string GetPaymentDetails()\n",
    "    {\n",
    "        return $\"{base.GetPaymentDetails()}, URL платежной системы: {PaymentUrl}\";\n",
    "    }\n",
    "}\n",
    "\n",
    "public class BankTransfer : PaymentMethod\n",
    "{\n",
    "    public string BankData { get; set; }\n",
    "\n",
    "    public override bool CheckMinimumAmount(decimal amount)\n",
    "    {\n",
    "        return amount >= (MinAmount + 10);\n",
    "    }\n",
    "}\n",
    "\n",
    "public class CashPayment : PaymentMethod\n",
    "{\n",
    "    public string CashPickupPoint { get; set; }\n",
    "\n",
    "    public override string GetPaymentDetails()\n",
    "    {\n",
    "        return $\"{base.GetPaymentDetails()}, Место выдачи наличных: {CashPickupPoint}\";\n",
    "    }\n",
    "}\n",
    "\n",
    "OnlinePayment onlinePayment = new OnlinePayment();\n",
    "onlinePayment.PaymentMethodId = 1;\n",
    "onlinePayment.MethodName = \"Онлайн Оплата\";\n",
    "onlinePayment.MinAmount = 100;\n",
    "onlinePayment.PaymentUrl = \"https://payment.example.com\";\n",
    "\n",
    "\n",
    "BankTransfer bankTransfer = new BankTransfer();\n",
    "bankTransfer.PaymentMethodId = 2;\n",
    "bankTransfer.MethodName = \"Банковский перевод\";\n",
    "bankTransfer.MinAmount = 200;\n",
    "bankTransfer.BankData = \"Банк\";\n",
    "\n",
    "CashPayment cashPayment = new CashPayment();\n",
    "cashPayment.PaymentMethodId = 3;\n",
    "cashPayment.MethodName = \"Наличные\";\n",
    "cashPayment.MinAmount = 50;\n",
    "cashPayment.CashPickupPoint = \"Магазин\";\n",
    "\n",
    "onlinePayment.ProcessPayment(150);\n",
    "bankTransfer.ProcessPayment(250);\n",
    "cashPayment.ProcessPayment(75);\n",
    "\n",
    "Console.WriteLine(onlinePayment.CheckMinimumAmount(150)); \n",
    "Console.WriteLine(bankTransfer.CheckMinimumAmount(250)); \n",
    "Console.WriteLine(cashPayment.CheckMinimumAmount(30)); \n",
    "\n",
    "Console.WriteLine(onlinePayment.GetPaymentDetails());\n",
    "Console.WriteLine(bankTransfer.GetPaymentDetails());\n",
    "Console.WriteLine(cashPayment.GetPaymentDetails());"
   ]
  }
 ],
 "metadata": {
  "kernelspec": {
   "display_name": ".NET (C#)",
   "language": "C#",
   "name": ".net-csharp"
  },
  "polyglot_notebook": {
   "kernelInfo": {
    "defaultKernelName": "csharp",
    "items": [
     {
      "aliases": [],
      "languageName": "csharp",
      "name": "csharp"
     }
    ]
   }
  }
 },
 "nbformat": 4,
 "nbformat_minor": 2
}
