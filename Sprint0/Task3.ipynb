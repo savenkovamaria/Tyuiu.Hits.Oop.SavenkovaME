{
 "cells": [
  {
   "cell_type": "markdown",
   "metadata": {},
   "source": [
    "<h1 style=\"color:DodgerBlue\">Индивидальный проект</h1>"
   ]
  },
  {
   "cell_type": "markdown",
   "metadata": {},
   "source": [
    "<h2 style=\"color:DodgerBlue\">Название проекта:</h2>\n",
    "\n",
    "----\n",
    "\n",
    "### Вариант задания № 16\n"
   ]
  },
  {
   "cell_type": "markdown",
   "metadata": {},
   "source": [
    "<h2 style=\"color:DodgerBlue\">Описание проекта:</h2>\n",
    "\n",
    "----\n",
    "\n",
    "Создать базовый класс PaymentMethod в C#, который будет представлять \n",
    "различные способы оплаты. На основе этого класса разработать 2-3 производных \n",
    "класса, демонстрирующих принципы наследования и полиморфизма. В каждом из \n",
    "классов должны быть реализованы новые атрибуты и методы, а также \n",
    "переопределены некоторые методы базового класса для демонстрации \n",
    "полиморфизма.\n",
    "##### Требования к базовому классу PaymentMethod:\n",
    "• Атрибуты: ID способа оплаты (PaymentMethodId), Название способа оплаты \n",
    "(MethodName), Минимальная сумма (MinAmount).\n",
    "\n",
    " • Методы:\n",
    "\n",
    "o ProcessPayment(decimal amount): метод для обработки платежа \n",
    "указанной суммы.\n",
    "\n",
    "o CheckMinimumAmount(decimal amount): метод для проверки \n",
    "минимальной суммы платежа.\n",
    "\n",
    "o GetPaymentDetails(): метод для получения деталей способа оплаты.\n",
    "##### Требования к производным классам:\n",
    "1. ОнлайнОплата (OnlinePayment): Должен содержать дополнительные \n",
    "атрибуты, такие как URL платежной системы (PaymentUrl). \n",
    "Метод ProcessPayment() должен быть переопределен для включения URL \n",
    "платежной системы в процесс оплаты.\n",
    "2. БанковскийПеревод (BankTransfer): Должен содержать дополнительные \n",
    "атрибуты, такие как Банковские данные (BankData). \n",
    "Метод CheckMinimumAmount() должен быть переопределен для проверки \n",
    "минимальной суммы платежа с учетом банковских комиссий.\n",
    "3. Наличные (CashPayment) (если требуется третий класс): Должен содержать \n",
    "дополнительные атрибуты, такие как Место выдачи наличных \n",
    "(CashPickupPoint). Метод GetPaymentDetails() должен быть переопределен \n",
    "для отображения места выдачи наличных.\n"
   ]
  },
  {
   "cell_type": "markdown",
   "metadata": {},
   "source": [
    "<h2 style=\"color:DodgerBlue\">Реализация:</h2>\n",
    "\n",
    "----"
   ]
  },
  {
   "cell_type": "code",
   "execution_count": 2,
   "metadata": {
    "dotnet_interactive": {
     "language": "csharp"
    },
    "polyglot_notebook": {
     "kernelName": "csharp"
    }
   },
   "outputs": [],
   "source": [
    "public interface IPaymentMethod\n",
    "{\n",
    "    void ProcessPayment(decimal amount);\n",
    "    bool CheckMinimumAmount(decimal amount);\n",
    "}\n",
    "public class PaymentMethod\n",
    "{\n",
    "    public int PaymentMethodId { get; set; }\n",
    "    public string MethodName { get; set; }\n",
    "    public decimal MinAmount { get; set; }\n",
    "\n",
    "    public virtual void ProcessPayment(decimal amount)\n",
    "    {\n",
    "        Console.WriteLine($\"Обработка платежа {amount} через {MethodName}\");\n",
    "    }\n",
    "\n",
    "    public virtual bool CheckMinimumAmount(decimal amount)\n",
    "    {\n",
    "        return amount >= MinAmount;\n",
    "    }\n",
    "}"
   ]
  }
 ],
 "metadata": {
  "kernelspec": {
   "display_name": ".NET (C#)",
   "language": "C#",
   "name": ".net-csharp"
  },
  "polyglot_notebook": {
   "kernelInfo": {
    "defaultKernelName": "csharp",
    "items": [
     {
      "aliases": [],
      "languageName": "csharp",
      "name": "csharp"
     }
    ]
   }
  }
 },
 "nbformat": 4,
 "nbformat_minor": 2
}
